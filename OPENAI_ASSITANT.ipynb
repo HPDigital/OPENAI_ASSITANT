{
 "cells": [
  {
   "cell_type": "code",
   "execution_count": 21,
   "id": "937f4848",
   "metadata": {},
   "outputs": [
    {
     "name": "stdout",
     "output_type": "stream",
     "text": [
      "Requirement already satisfied: openai in c:\\users\\hp\\anaconda3\\lib\\site-packages (1.12.0)\n",
      "Requirement already satisfied: anyio<5,>=3.5.0 in c:\\users\\hp\\anaconda3\\lib\\site-packages (from openai) (3.5.0)\n",
      "Requirement already satisfied: distro<2,>=1.7.0 in c:\\users\\hp\\anaconda3\\lib\\site-packages (from openai) (1.9.0)\n",
      "Requirement already satisfied: httpx<1,>=0.23.0 in c:\\users\\hp\\anaconda3\\lib\\site-packages (from openai) (0.26.0)\n",
      "Requirement already satisfied: pydantic<3,>=1.9.0 in c:\\users\\hp\\anaconda3\\lib\\site-packages (from openai) (1.10.8)\n",
      "Requirement already satisfied: sniffio in c:\\users\\hp\\anaconda3\\lib\\site-packages (from openai) (1.2.0)\n",
      "Requirement already satisfied: tqdm>4 in c:\\users\\hp\\anaconda3\\lib\\site-packages (from openai) (4.65.0)\n",
      "Requirement already satisfied: typing-extensions<5,>=4.7 in c:\\users\\hp\\anaconda3\\lib\\site-packages (from openai) (4.7.1)\n",
      "Requirement already satisfied: idna>=2.8 in c:\\users\\hp\\anaconda3\\lib\\site-packages (from anyio<5,>=3.5.0->openai) (3.4)\n",
      "Requirement already satisfied: certifi in c:\\users\\hp\\anaconda3\\lib\\site-packages (from httpx<1,>=0.23.0->openai) (2023.7.22)\n",
      "Requirement already satisfied: httpcore==1.* in c:\\users\\hp\\anaconda3\\lib\\site-packages (from httpx<1,>=0.23.0->openai) (1.0.2)\n",
      "Requirement already satisfied: h11<0.15,>=0.13 in c:\\users\\hp\\anaconda3\\lib\\site-packages (from httpcore==1.*->httpx<1,>=0.23.0->openai) (0.14.0)\n",
      "Requirement already satisfied: colorama in c:\\users\\hp\\anaconda3\\lib\\site-packages (from tqdm>4->openai) (0.4.6)\n"
     ]
    }
   ],
   "source": [
    "!pip install openai\n",
    "from pprint import pprint\n",
    "import json\n",
    "import time\n",
    "from openai import OpenAI"
   ]
  },
  {
   "cell_type": "code",
   "execution_count": 6,
   "id": "310ce45d",
   "metadata": {},
   "outputs": [],
   "source": [
    "\n",
    "OPEN_AI_KEY=\"YOUR_API_KEY_HERE\""
   ]
  },
  {
   "cell_type": "code",
   "execution_count": 4,
   "id": "b95fffaf",
   "metadata": {},
   "outputs": [],
   "source": [
    "client = OpenAI(api_key = OPEN_AI_KEY)"
   ]
  },
  {
   "cell_type": "markdown",
   "id": "dcedb8b8",
   "metadata": {},
   "source": [
    "### Step 1: Cargar los archivos"
   ]
  },
  {
   "cell_type": "code",
   "execution_count": 7,
   "id": "6e2797da",
   "metadata": {},
   "outputs": [
    {
     "name": "stdout",
     "output_type": "stream",
     "text": [
      "file-ED8m2oHKgFq24xLX8WXPAKUu\n"
     ]
    }
   ],
   "source": [
    "file = client.files.create(\n",
    "    file=open(r\"C:\\Users\\HP\\Desktop\\CATO CURSOS-1-2024\\GER-TI CATO1-2024\\Libros\\Disenando-la-propuesta-de-valor-Alexander-Osterwalder-Yves-Pig.pdf\",\"rb\"),\n",
    "    purpose = \"assistants\"\n",
    ")\n",
    "\n",
    "print(file.id)"
   ]
  },
  {
   "cell_type": "code",
   "execution_count": 8,
   "id": "5c8825d1",
   "metadata": {},
   "outputs": [
    {
     "name": "stdout",
     "output_type": "stream",
     "text": [
      "SyncPage[FileObject](data=[FileObject(id='file-ED8m2oHKgFq24xLX8WXPAKUu', bytes=25899584, created_at=1708457730, filename='Disenando-la-propuesta-de-valor-Alexander-Osterwalder-Yves-Pig.pdf', object='file', purpose='assistants', status='processed', status_details=None), FileObject(id='file-2ZmvqG0fkd7ToPOJyz39i3Yg', bytes=62813329, created_at=1706477619, filename='testing-business-ideas.pdf', object='file', purpose='assistants', status='processed', status_details=None), FileObject(id='file-3rpolhfGYf1lgCNNHP8gT1ui', bytes=31374957, created_at=1706477609, filename='Generacíon-de-modelos-de-negocio.pdf', object='file', purpose='assistants', status='processed', status_details=None), FileObject(id='file-618oY757TWoUSlMjc3VIoBnj', bytes=25899584, created_at=1706477605, filename='Disenando-la-propuesta-de-valor-Alexander-Osterwalder-Yves-Pig.pdf', object='file', purpose='assistants', status='processed', status_details=None)], object='list', has_more=False)\n"
     ]
    }
   ],
   "source": [
    "file_list = client.files.list()\n",
    "print(file_list)"
   ]
  },
  {
   "cell_type": "code",
   "execution_count": 9,
   "id": "fc37110a",
   "metadata": {},
   "outputs": [],
   "source": [
    "file_id = \"file-ED8m2oHKgFq24xLX8WXPAKUu\""
   ]
  },
  {
   "cell_type": "markdown",
   "id": "3aa1173f",
   "metadata": {},
   "source": [
    "### Step 2: Crear el asistente"
   ]
  },
  {
   "cell_type": "code",
   "execution_count": 12,
   "id": "232c5435",
   "metadata": {},
   "outputs": [],
   "source": [
    "assistant = client.beta.assistants.create(\n",
    "    instructions =\"Eres un asistente experto en diseño de propuesta de valor para productos nuevos\",\n",
    "    model = \"gpt-4-1106-preview\",\n",
    "    tools = [{\"type\":\"retrieval\"}],\n",
    "    file_ids = [file_id]\n",
    ")"
   ]
  },
  {
   "cell_type": "markdown",
   "id": "fe6c9f64",
   "metadata": {},
   "source": [
    "### Step 3: Crear el Thread"
   ]
  },
  {
   "cell_type": "code",
   "execution_count": 13,
   "id": "6761d28e",
   "metadata": {},
   "outputs": [
    {
     "name": "stdout",
     "output_type": "stream",
     "text": [
      "Thread(id='thread_CslLKoWl5HimeweuOTd06iun', created_at=1708458533, metadata={}, object='thread', tool_resources=[])\n"
     ]
    }
   ],
   "source": [
    "thread = client.beta.threads.create()\n",
    "print(thread)"
   ]
  },
  {
   "cell_type": "markdown",
   "id": "10a8977c",
   "metadata": {},
   "source": [
    "### Step 4: Añadir un mensaje del usuario"
   ]
  },
  {
   "cell_type": "code",
   "execution_count": 14,
   "id": "b37dc1e9",
   "metadata": {},
   "outputs": [],
   "source": [
    "message = client.beta.threads.messages.create(\n",
    "    thread_id = thread.id,\n",
    "    role =\"user\",\n",
    "    content = \" Cual es la porpuesta de valor del yogurt LC1\"\n",
    "\n",
    ")"
   ]
  },
  {
   "cell_type": "markdown",
   "id": "edaa41e9",
   "metadata": {},
   "source": [
    "### Step 5: Ejecuta al asistente para obtener la respuesta"
   ]
  },
  {
   "cell_type": "code",
   "execution_count": 18,
   "id": "ad22e652",
   "metadata": {},
   "outputs": [
    {
     "name": "stdout",
     "output_type": "stream",
     "text": [
      "run_kvMDg8jnEHgzr6lNBjQwwpwt\n"
     ]
    }
   ],
   "source": [
    "run = client.beta.threads.runs.create(\n",
    "    thread_id = thread.id,\n",
    "    assistant_id = assistant.id,\n",
    "    instructions = \"Porfavor refierete al usuario como Juanito, si la pregunta no es clara, pide aclracion\"\n",
    ")\n",
    "print(run.id)"
   ]
  },
  {
   "cell_type": "markdown",
   "id": "66719046",
   "metadata": {},
   "source": [
    "### Step 6: Ver el estaus de la ejecución"
   ]
  },
  {
   "cell_type": "code",
   "execution_count": 22,
   "id": "0a5aa034",
   "metadata": {},
   "outputs": [
    {
     "name": "stdout",
     "output_type": "stream",
     "text": [
      "completed\n",
      "completed\n",
      "completed\n",
      "completed\n"
     ]
    },
    {
     "ename": "KeyboardInterrupt",
     "evalue": "",
     "output_type": "error",
     "traceback": [
      "\u001b[1;31m---------------------------------------------------------------------------\u001b[0m",
      "\u001b[1;31mKeyboardInterrupt\u001b[0m                         Traceback (most recent call last)",
      "Cell \u001b[1;32mIn[22], line 8\u001b[0m\n\u001b[0;32m      2\u001b[0m run \u001b[38;5;241m=\u001b[39m client\u001b[38;5;241m.\u001b[39mbeta\u001b[38;5;241m.\u001b[39mthreads\u001b[38;5;241m.\u001b[39mruns\u001b[38;5;241m.\u001b[39mretrieve(\n\u001b[0;32m      3\u001b[0m thread_id \u001b[38;5;241m=\u001b[39m thread\u001b[38;5;241m.\u001b[39mid,\n\u001b[0;32m      4\u001b[0m run_id \u001b[38;5;241m=\u001b[39m run\u001b[38;5;241m.\u001b[39mid\n\u001b[0;32m      5\u001b[0m )\n\u001b[0;32m      7\u001b[0m \u001b[38;5;28mprint\u001b[39m(run\u001b[38;5;241m.\u001b[39mstatus)\n\u001b[1;32m----> 8\u001b[0m time\u001b[38;5;241m.\u001b[39msleep(\u001b[38;5;241m10\u001b[39m)\n",
      "\u001b[1;31mKeyboardInterrupt\u001b[0m: "
     ]
    }
   ],
   "source": [
    "while run.status not in[\"complete\",\"failed\"]:\n",
    "    run = client.beta.threads.runs.retrieve(\n",
    "    thread_id = thread.id,\n",
    "    run_id = run.id\n",
    "    )\n",
    "    \n",
    "    print(run.status)\n",
    "    time.sleep(10)"
   ]
  },
  {
   "cell_type": "code",
   "execution_count": null,
   "id": "58e4a8b2",
   "metadata": {},
   "outputs": [],
   "source": [
    "run_steps = client.beta.threads.runs.steps.list(\n",
    "    thread_id = thread.id,\n",
    "    run_id = run.id\n",
    ")\n",
    "\n",
    "print(run_steps)"
   ]
  },
  {
   "cell_type": "markdown",
   "id": "0d658f50",
   "metadata": {},
   "source": [
    "### Step 7: Cuando la ejecucion de la consulta esta completada"
   ]
  },
  {
   "cell_type": "code",
   "execution_count": 24,
   "id": "95a266ee",
   "metadata": {},
   "outputs": [],
   "source": [
    "messages = client.beta.threads.messages.list(\n",
    "    thread_id = thread.id\n",
    ")"
   ]
  },
  {
   "cell_type": "code",
   "execution_count": 25,
   "id": "cf71276e",
   "metadata": {},
   "outputs": [
    {
     "name": "stdout",
     "output_type": "stream",
     "text": [
      "('assistant:El documento que proporcionaste parece ser una sucesión de '\n",
      " 'imágenes, y no he logrado encontrar un texto específico relacionado con la '\n",
      " 'propuesta de valor del yogurt LC1. Puede ser que las imágenes contengan '\n",
      " 'diagramas, modelos de negocio o conceptos relacionados con la propuesta de '\n",
      " 'valor en general, pero no un ejemplo específico aplicado al yogurt LC1.\\n'\n",
      " '\\n'\n",
      " 'Si el documento que has subido es el correcto y está relacionado con la '\n",
      " 'pregunta, por favor, dime si hay algún detalle adicional que debería buscar '\n",
      " 'dentro del mismo. Si es un error y tienes otro documento que pueda contener '\n",
      " 'la información que buscas, te invito a subirlo.')\n",
      "'user: Cual es la porpuesta de valor del yogurt LC1'\n"
     ]
    }
   ],
   "source": [
    "for each in messages:\n",
    "    pprint(each.role + \":\" +each.content[0].text.value)"
   ]
  },
  {
   "cell_type": "markdown",
   "id": "378fd3e3",
   "metadata": {},
   "source": [
    "### Step 8: Limpiamos "
   ]
  },
  {
   "cell_type": "code",
   "execution_count": 28,
   "id": "bd1a8283",
   "metadata": {},
   "outputs": [
    {
     "name": "stdout",
     "output_type": "stream",
     "text": [
      "[Assistant(id='asst_mFE7WUXXs7oiOK4Tt8Sw2zOb', created_at=1708458391, description=None, file_ids=['file-ED8m2oHKgFq24xLX8WXPAKUu'], instructions='Eres un asistente experto en diseño de propuesta de valor para productos nuevos', metadata={}, model='gpt-4-1106-preview', name=None, object='assistant', tools=[ToolRetrieval(type='retrieval')]), Assistant(id='asst_EtFqMwpeDozJDPzqHb8qhK97', created_at=1706477671, description=None, file_ids=['file-2ZmvqG0fkd7ToPOJyz39i3Yg', 'file-3rpolhfGYf1lgCNNHP8gT1ui', 'file-618oY757TWoUSlMjc3VIoBnj'], instructions='Alex, eres un especialista en análisis y generación de modelos de negocios, te basas exclusivamente en lo expresado por Alexander Osterwalder en sus diferentes obras y entrevistas. También eres especialista en programación python con la API de open IA. \\nPara el análisis de modelos de negocios nunca tomas en cuenta ninguna otra fuente que no sea un libro o una entrevista de Alexander Osterwalder. Siempre darás prioridad en tus respuestas en lo que encuentres en los libros cargados en la función \"retrieval\"\\nCuando se trata de programación en Python te apoyas en todas las fuentes que puedas utilizar en particular las que sean de OpenAI.', metadata={}, model='gpt-4-turbo-preview', name='Alex', object='assistant', tools=[ToolRetrieval(type='retrieval')])]\n"
     ]
    }
   ],
   "source": [
    "my_assistants = client.beta.assistants.list(\n",
    "    order=\"desc\",\n",
    "    limit = \"20\"\n",
    ")\n",
    "\n",
    "print(my_assistants.data)"
   ]
  },
  {
   "cell_type": "code",
   "execution_count": 29,
   "id": "06738916",
   "metadata": {},
   "outputs": [
    {
     "name": "stdout",
     "output_type": "stream",
     "text": [
      "AssistantDeleted(id='asst_mFE7WUXXs7oiOK4Tt8Sw2zOb', deleted=True, object='assistant.deleted')\n"
     ]
    }
   ],
   "source": [
    "response = client.beta.assistants.delete(\"asst_mFE7WUXXs7oiOK4Tt8Sw2zOb\")\n",
    "print(response)"
   ]
  },
  {
   "cell_type": "code",
   "execution_count": null,
   "id": "4583b241",
   "metadata": {},
   "outputs": [],
   "source": []
  }
 ],
 "metadata": {
  "kernelspec": {
   "display_name": "Python 3 (ipykernel)",
   "language": "python",
   "name": "python3"
  },
  "language_info": {
   "codemirror_mode": {
    "name": "ipython",
    "version": 3
   },
   "file_extension": ".py",
   "mimetype": "text/x-python",
   "name": "python",
   "nbconvert_exporter": "python",
   "pygments_lexer": "ipython3",
   "version": "3.11.5"
  }
 },
 "nbformat": 4,
 "nbformat_minor": 5
}
